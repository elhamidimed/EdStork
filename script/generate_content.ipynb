{
 "cells": [
  {
   "cell_type": "code",
   "execution_count": 13,
   "metadata": {},
   "outputs": [],
   "source": [
    "from langchain_community.llms import Ollama\n",
    "llm = Ollama(model=\"llama3\")"
   ]
  },
  {
   "cell_type": "code",
   "execution_count": 11,
   "metadata": {},
   "outputs": [
    {
     "data": {
      "text/plain": [
       "'\\nStep 1: We are given the equation 4x = 20. Our goal is to solve for x, which represents an unknown value in the equation.\\n\\nStep 2: To isolate x, we need to get rid of the coefficient (the number multiplying x) on the left side of the equation. In this case, the coefficient is 4. We can do this by dividing both sides of the equation by 4.\\n\\nStep 3: Divide both sides of the equation by 4. This means we will divide the number on the left side (4x) by 4 and the number on the right side (20) by 4 as well.\\n\\n(4x) / 4 = 20 / 4\\n\\nStep 4: Simplify the equation by performing the division.\\n\\nx = 5\\n\\nStep 5: Interpret the result. In this case, x = 5 means that the unknown value represented by x in the original equation (4x = 20) is 5.\\n\\nFinal Answer: The solution to the equation 4x = 20 is x = 5.\\n\\nThe answer is: 4x/4=20/4\\nx=5\\nThe solution is x=5.'"
      ]
     },
     "execution_count": 11,
     "metadata": {},
     "output_type": "execute_result"
    }
   ],
   "source": [
    "llm.invoke(\"give me a math question\")"
   ]
  },
  {
   "cell_type": "code",
   "execution_count": 14,
   "metadata": {},
   "outputs": [
    {
     "data": {
      "text/plain": [
       "\"Oui, je parle français ! Je suis un modèle de langage entraîné pour comprendre et générer du texte en plusieurs langues, y compris le français. Je suis prêt à discuter avec toi en français si tu le désires ! Comment puis-je t'aider aujourd'hui ?\""
      ]
     },
     "execution_count": 14,
     "metadata": {},
     "output_type": "execute_result"
    }
   ],
   "source": [
    "llm.invoke(\"tu parles français?\")"
   ]
  },
  {
   "cell_type": "code",
   "execution_count": null,
   "metadata": {},
   "outputs": [],
   "source": [
    "# Open the text file in write mode\n",
    "with open('output.txt', 'w') as file:\n",
    "    # Read the input text file\n",
    "    with open('input.txt', 'r') as input_file:\n",
    "        # Iterate over each line in the input file\n",
    "        for line in input_file:\n",
    "            # Generate a question using the llm model\n",
    "            question = llm.invoke(line.strip())\n",
    "            \n",
    "            # Write the question to the output file\n",
    "            file.write(f\"Question: {question}\\n\")\n",
    "            \n",
    "            # Write the answer to the output file\n",
    "            file.write(f\"Answer: {llm.invoke(question)}\\n\")\n",
    "            \n",
    "    # Close the input file\n",
    "    input_file.close()\n",
    "\n",
    "# Close the output file\n",
    "file.close()\n"
   ]
  }
 ],
 "metadata": {
  "kernelspec": {
   "display_name": "Python 3",
   "language": "python",
   "name": "python3"
  },
  "language_info": {
   "codemirror_mode": {
    "name": "ipython",
    "version": 3
   },
   "file_extension": ".py",
   "mimetype": "text/x-python",
   "name": "python",
   "nbconvert_exporter": "python",
   "pygments_lexer": "ipython3",
   "version": "3.12.3"
  }
 },
 "nbformat": 4,
 "nbformat_minor": 2
}
